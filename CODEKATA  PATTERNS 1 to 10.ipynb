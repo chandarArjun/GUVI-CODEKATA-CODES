{
 "cells": [
  {
   "cell_type": "code",
   "execution_count": 1,
   "id": "acc6128e",
   "metadata": {},
   "outputs": [
    {
     "name": "stdout",
     "output_type": "stream",
     "text": [
      "5\n",
      "1\n",
      "12\n",
      "123\n",
      "1234\n",
      "12345\n"
     ]
    }
   ],
   "source": [
    "# 1.Half pyramid pattern using numbers\n",
    "\n",
    "def pattern(n):\n",
    "    for i in range(1, n+1):\n",
    "        l = []\n",
    "        for j in range(1, i+1):\n",
    "            l.append(str(j))\n",
    "        print(''.join(l))\n",
    "        \n",
    "n = int(input())\n",
    "pattern(n)"
   ]
  },
  {
   "cell_type": "code",
   "execution_count": 2,
   "id": "d2b3245c",
   "metadata": {},
   "outputs": [
    {
     "name": "stdout",
     "output_type": "stream",
     "text": [
      "5\n",
      "12345\n",
      "4321\n",
      "123\n",
      "21\n",
      "1\n"
     ]
    }
   ],
   "source": [
    "#2.code to generate a half pyramid number pattern.\n",
    "\n",
    "def pattern(n):\n",
    "    for i in range(n):\n",
    "        if i % 2 == 0:\n",
    "            for j in range(n-i):\n",
    "                print(j+1, end = \"\")\n",
    "        else:\n",
    "            for j in range(n-i, 0, -1):\n",
    "                print(j, end = \"\")\n",
    "        print()\n",
    "n = int(input())\n",
    "pattern(n)"
   ]
  },
  {
   "cell_type": "code",
   "execution_count": 3,
   "id": "e970c226",
   "metadata": {},
   "outputs": [
    {
     "name": "stdout",
     "output_type": "stream",
     "text": [
      "3 5\n",
      "* * * * *\n",
      "*       *\n",
      "* * * * *\n"
     ]
    }
   ],
   "source": [
    "#3. Hollow rectangle using stars. \n",
    "\n",
    "def pattern(r, c):\n",
    "    for i in range(1, r+1):\n",
    "        l = []\n",
    "        if i == 1 or i == r:\n",
    "            for j in range(c):\n",
    "                l.append('*')\n",
    "        else:\n",
    "            l.append('*')\n",
    "            for j in range(1, c-1):\n",
    "                l.append(' ')\n",
    "            l.append('*')\n",
    "        print(*l)\n",
    "\n",
    "r, c = map(int, input().split())\n",
    "pattern(r, c)\n"
   ]
  },
  {
   "cell_type": "code",
   "execution_count": 4,
   "id": "64ee4e9a",
   "metadata": {},
   "outputs": [
    {
     "name": "stdout",
     "output_type": "stream",
     "text": [
      "5\n",
      "12345\n",
      "1  4\n",
      "1 3\n",
      "12\n",
      "1\n"
     ]
    }
   ],
   "source": [
    "#4. hollow inverted half pyramid pattern\n",
    "\n",
    "def pattern(n):\n",
    "    for i in range(n, 0, -1):\n",
    "        a = ''\n",
    "        if i == 1:\n",
    "            a += str(i)\n",
    "            \n",
    "        elif i == n:\n",
    "            for i in range(1,n+1):\n",
    "                a += str(i)\n",
    "        \n",
    "        else:\n",
    "            a += '1'\n",
    "            a += ' '*(i-2)\n",
    "            a += str(i)\n",
    "        print(a)\n",
    "\n",
    "n = int(input())\n",
    "pattern (n)\n",
    "        \n",
    "        "
   ]
  },
  {
   "cell_type": "code",
   "execution_count": 5,
   "id": "b57427a7",
   "metadata": {},
   "outputs": [
    {
     "name": "stdout",
     "output_type": "stream",
     "text": [
      "5\n",
      "1\n",
      "22\n",
      "333\n",
      "4444\n",
      "55555\n"
     ]
    }
   ],
   "source": [
    "#5.half pyramid pattern using numbers.\n",
    "\n",
    "def pattern (n):\n",
    "    for i in range(1, n+1):\n",
    "        a = str(i) * i\n",
    "        print(a)\n",
    "        \n",
    "n = int(input())\n",
    "pattern (n)\n"
   ]
  },
  {
   "cell_type": "code",
   "execution_count": 6,
   "id": "ab514111",
   "metadata": {},
   "outputs": [
    {
     "name": "stdout",
     "output_type": "stream",
     "text": [
      "5\n",
      "*\n",
      "* *\n",
      "* * *\n",
      "* * * *\n",
      "* * * * *\n"
     ]
    }
   ],
   "source": [
    "#6. pyramid pattern using stars\n",
    "\n",
    "def pattern (n):\n",
    "    for i in range(1,n+1):\n",
    "        l = []\n",
    "        for j in range(i):\n",
    "            l.append('*')\n",
    "        print(*l)\n",
    "n = int(input())\n",
    "pattern (n)"
   ]
  },
  {
   "cell_type": "code",
   "execution_count": 8,
   "id": "ab30ce32",
   "metadata": {},
   "outputs": [
    {
     "name": "stdout",
     "output_type": "stream",
     "text": [
      "5\n",
      "12345\n",
      "1234\n",
      "123\n",
      "12\n",
      "1\n"
     ]
    }
   ],
   "source": [
    "#7.half pyramid number pattern.\n",
    "\n",
    "def pattern (n):\n",
    "    for i in range (n, 0, -1):\n",
    "        for j in range (1,i+1):\n",
    "            print(j,end=\"\")\n",
    "        print()\n",
    "n = int(input())\n",
    "pattern(n)"
   ]
  },
  {
   "cell_type": "code",
   "execution_count": 9,
   "id": "9a7bd57f",
   "metadata": {},
   "outputs": [
    {
     "name": "stdout",
     "output_type": "stream",
     "text": [
      "3 5\n",
      "* * * * *\n",
      "* * * * *\n",
      "* * * * *\n"
     ]
    }
   ],
   "source": [
    "#8. solid rectangle using stars. \n",
    "\n",
    "def pattern (r,c):\n",
    "    for i in range(1, r+1):\n",
    "        l = []\n",
    "        for j in range(c):\n",
    "            l.append('*')\n",
    "        print(*l)\n",
    "\n",
    "r,c = map(int,input().split())\n",
    "pattern(r,c)"
   ]
  },
  {
   "cell_type": "code",
   "execution_count": 10,
   "id": "010c51d0",
   "metadata": {},
   "outputs": [
    {
     "name": "stdout",
     "output_type": "stream",
     "text": [
      "5\n",
      "1\n",
      "2 3\n",
      "4 5 6\n",
      "7 8 9 10\n",
      "11 12 13 14 15\n"
     ]
    }
   ],
   "source": [
    "#9. Floyd's triangle.\n",
    "\n",
    "def contnum(n):\n",
    "    a = 1\n",
    "    for i in range(1, n+1):\n",
    "        l = []\n",
    "        for j in range(i):\n",
    "            l.append(a)\n",
    "            a += 1\n",
    "        print(*l)    \n",
    "        \n",
    "        \n",
    "n = int(input())\n",
    "contnum(n)"
   ]
  },
  {
   "cell_type": "code",
   "execution_count": 11,
   "id": "45f812d7",
   "metadata": {},
   "outputs": [
    {
     "name": "stdout",
     "output_type": "stream",
     "text": [
      "5\n",
      "*****\n",
      " ****\n",
      "  ***\n",
      "   **\n",
      "    *\n"
     ]
    }
   ],
   "source": [
    "#10. pyramid using stars.\n",
    "\n",
    "def pattern (n):\n",
    "    for i in range(n):\n",
    "        l = []\n",
    "        for j in range(i):\n",
    "            l.append(' ')\n",
    "        for j in range(n-i):\n",
    "            l.append('*')\n",
    "        print(''.join(l))\n",
    "        \n",
    "n = int(input())\n",
    "pattern (n)"
   ]
  }
 ],
 "metadata": {
  "kernelspec": {
   "display_name": "Python 3 (ipykernel)",
   "language": "python",
   "name": "python3"
  },
  "language_info": {
   "codemirror_mode": {
    "name": "ipython",
    "version": 3
   },
   "file_extension": ".py",
   "mimetype": "text/x-python",
   "name": "python",
   "nbconvert_exporter": "python",
   "pygments_lexer": "ipython3",
   "version": "3.9.7"
  }
 },
 "nbformat": 4,
 "nbformat_minor": 5
}
